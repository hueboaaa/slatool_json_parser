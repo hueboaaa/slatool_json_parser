{
  "nbformat": 4,
  "nbformat_minor": 0,
  "metadata": {
    "colab": {
      "name": "SLATOOL_JSON_PARSER_v1",
      "private_outputs": true,
      "provenance": [],
      "collapsed_sections": [],
      "authorship_tag": "ABX9TyMPvRAtmdotLRGwnu78K6SK",
      "include_colab_link": true
    },
    "kernelspec": {
      "name": "python3",
      "display_name": "Python 3"
    },
    "language_info": {
      "name": "python"
    }
  },
  "cells": [
    {
      "cell_type": "markdown",
      "metadata": {
        "id": "view-in-github",
        "colab_type": "text"
      },
      "source": [
        "<a href=\"https://colab.research.google.com/github/hueboaaa/slatool_json_parser/blob/main/SLATOOL_JSON_PARSER_v1.ipynb\" target=\"_parent\"><img src=\"https://colab.research.google.com/assets/colab-badge.svg\" alt=\"Open In Colab\"/></a>"
      ]
    },
    {
      "cell_type": "code",
      "metadata": {
        "id": "LJrm_jClYgEy"
      },
      "source": [
        "!sudo apt-get install -y fonts-nanum\n",
        "!sudo fc-cache -fv\n",
        "!rm ~/.cache/matplotlib -rf"
      ],
      "execution_count": null,
      "outputs": []
    },
    {
      "cell_type": "code",
      "metadata": {
        "id": "m38uRzOwxkhd"
      },
      "source": [
        "import json\n",
        "\n",
        "json_origin = json.load(open(\"Untitled-1.json\", 'r'))\n",
        "json_target = json.load(open(\"Untitled-2.json\", 'r'))"
      ],
      "execution_count": null,
      "outputs": []
    },
    {
      "cell_type": "code",
      "metadata": {
        "id": "U8Qw5drOw_0s"
      },
      "source": [
        "#for a in json_data['targets']:\n",
        "#   name = a['name']\n",
        "#   data = a['blocks']\n",
        "\n",
        "#   keys = [key for key in data]\n",
        "#   name_blocks_dic = {name : keys}\n",
        "#   print(name_blocks_dic)"
      ],
      "execution_count": null,
      "outputs": []
    },
    {
      "cell_type": "code",
      "metadata": {
        "id": "yB4sfNt6nY_6"
      },
      "source": [
        "#for a in json_data['targets']:\n",
        "#   name = a['name']\n",
        "#   data = a['blocks']\n",
        "\n",
        "#   keys = [key for key in data]\n",
        "#   name_blocks_dic = {name : keys}\n",
        "#   if len(name_blocks_dic[name]) != 0:\n",
        "#      print(\"name : \" + name + \" & first_key : \" + name_blocks_dic[name][0])\n",
        "#      print(\"name : \" + name + \" & key : \" + str(name_blocks_dic[name]))\n",
        "#      print('---------------------------------------------------')"
      ],
      "execution_count": null,
      "outputs": []
    },
    {
      "cell_type": "code",
      "metadata": {
        "id": "0UTqFGiJ5aZp"
      },
      "source": [
        "for origin in json_origin['targets']:\n",
        "  ori_name = origin['name']\n",
        "  ori_data = origin['blocks']\n",
        "\n",
        "  ori_keys = [key for key in ori_data]\n",
        "  ori_name_blocks_dic = {ori_name : ori_keys}\n",
        "\n",
        "  if len(ori_name_blocks_dic[ori_name]) != 0:\n",
        "    print(\"name : \" + ori_name + \"first_key : \" + ori_name_blocks_dic[ori_name][0])\n",
        "    print(\"name : \" + ori_name + \"key : \" + str(ori_name_blocks_dic[ori_name]))\n",
        "    print('---------------------------------------------------')"
      ],
      "execution_count": null,
      "outputs": []
    },
    {
      "cell_type": "code",
      "metadata": {
        "id": "KBEuTaBNYGB3"
      },
      "source": [
        "for target in json_target['targets']:\n",
        "  tar_name = target['name']\n",
        "  tar_data = target['blocks']\n",
        "\n",
        "  tar_keys = [key for key in tar_data]\n",
        "  tar_name_blocks_dic = {tar_name : tar_keys}\n",
        "\n",
        "  if len(tar_name_blocks_dic[tar_name]) != 0:\n",
        "    print(\"name : \" + tar_name + \" & first_key \" + tar_name_blocks_dic[tar_name][0])\n",
        "    print(\"name : \" + tar_name + \" & key \" + str(tar_name_blocks_dic[tar_name]))\n",
        "    print('---------------------------------------------------')"
      ],
      "execution_count": null,
      "outputs": []
    },
    {
      "cell_type": "code",
      "metadata": {
        "id": "8JoD1UXzxxJz"
      },
      "source": [
        "ori_array = {}\n",
        "ori_compared_data = {}\n",
        "for origin in json_origin['targets']:\n",
        "  ori_name = origin['name']\n",
        "  ori_data = origin['blocks']\n",
        "\n",
        "  print(\"Sprite(Background) name : \" + ori_name)\n",
        "\n",
        "  # 난수는 blocks의 키\n",
        "  ori_keys = [key for key in ori_data] # blocks{ 난수1:{opcode:abcd}, 난수2:{opcode:abcd}}에서 난수를 가져오는 key list => 난수1, 난수2\n",
        "  ori_name_blocks_dic = {ori_name : ori_keys}\n",
        "  ori_compared_data[ori_name] = {}\n",
        "\n",
        "  oriCnt = len(ori_keys)\n",
        "  for value in ori_keys: # 난수 list를 for문 돌려서 난수 하나씩 가져오기 (ori_opcode = 난수)\n",
        "    value_key = [key for key in ori_data[value]]\n",
        "    if \"x\" not in value_key or \"y\" not in value_key:\n",
        "      ori_data[value]['x'] = \"None\"\n",
        "      ori_data[value]['y'] = \"None\"\n",
        "\n",
        "    ori_saved_data = {}\n",
        "    ori_saved_data[value] = {\"x\" : ori_data[value][\"x\"], \"y\" : ori_data[value][\"y\"], \"parent\" : ori_data[value][\"parent\"], \"input\" : ori_data[value][\"inputs\"]}\n",
        "    ori_compared_data[ori_name].update(ori_saved_data)\n",
        "\n",
        "\n",
        "    print(\"Code key > \" + value) # ori_data[ori_opcode][\"opcode\"]는 난수 안에 있는 opcode 값 가져오기\n",
        "    print(\" - position : \" + str(ori_data[value][\"x\"]) +\", \"+ str(ori_data[value][\"y\"]))\n",
        "    print(\" - block : \" + ori_data[value][\"opcode\"])\n",
        "    print(\" - input : \" + str(ori_data[value][\"inputs\"]))\n",
        "    print(\" - parent : \" + str(ori_data[value][\"parent\"]))\n",
        "\n",
        "    if \"menu\" in ori_data[value][\"opcode\"]:\n",
        "      oriCnt -= 1;\n",
        " \n",
        "  ori_array[ori_name] = oriCnt\n",
        "  print('---------------------------------------------------')\n",
        "print(ori_array)\n",
        "print(ori_compared_data)\n",
        "  #for value in ori_keys:\n",
        "    # print(\"x : %d \"%ori_data[value][\"x\"])\n"
      ],
      "execution_count": null,
      "outputs": []
    },
    {
      "cell_type": "code",
      "metadata": {
        "id": "5sTfyxNhPknQ"
      },
      "source": [
        "tar_array={}\n",
        "tar_compared_data={}\n",
        "for target in json_target['targets']:\n",
        "  tar_name = target['name']\n",
        "  tar_data = target['blocks']\n",
        "\n",
        "  print(\"Sprite(Background) name : \" + tar_name)\n",
        "\n",
        "  tar_keys = [key for key in tar_data] \n",
        "  tar_name_blocks_dic = {tar_name : tar_keys}\n",
        "  tar_data_x = []\n",
        "  tar_compared_data[tar_name] = {}\n",
        "  tarCnt = len(tar_keys)\n",
        "\n",
        "  for value in tar_keys:     \n",
        "    value_key = [key for key in tar_data[value]]\n",
        "\n",
        "    if \"x\" not in value_key or \"y\" not in value_key:\n",
        "      tar_data[value]['x'] = \"None\"\n",
        "      tar_data[value]['y'] = \"None\"\n",
        "\n",
        "    tar_saved_data = {}\n",
        "    tar_saved_data[value] = {\"x\" : tar_data[value][\"x\"], \"y\" : tar_data[value][\"y\"], \"parent\" : tar_data[value][\"parent\"], \"input\" : tar_data[value][\"inputs\"]}\n",
        "    tar_compared_data[tar_name].update(tar_saved_data)\n",
        "    \n",
        "    print(\"Code key > \" + value) \n",
        "\n",
        "    print(\" - position : \" + str(tar_data[value][\"x\"]) +\", \"+ str(tar_data[value][\"y\"]))\n",
        "    print(\" - block : \" + tar_data[value][\"opcode\"])\n",
        "    print(\" - input : \" + str(tar_data[value][\"inputs\"]))\n",
        "    print(\" - parent : \" + str(tar_data[value][\"parent\"]))\n",
        "\n",
        "    if \"menu\" in tar_data[value][\"opcode\"]:\n",
        "      tarCnt -= 1;\n",
        "  \n",
        "  tar_array[tar_name] = tarCnt\n",
        "  print('---------------------------------------------------')\n",
        "print(tar_array)\n",
        "print(tar_compared_data)"
      ],
      "execution_count": null,
      "outputs": []
    },
    {
      "cell_type": "code",
      "metadata": {
        "id": "Xh4U16zxPjXz"
      },
      "source": [
        "cnt = 0\n",
        "\n",
        "if len(ori_array) != len(tar_array):\n",
        "  print(\"다른 경우 소스 추가 필요\")\n",
        "\n",
        "else:\n",
        "  names = [key for key in ori_array]\n",
        "\n",
        "  for name in names:\n",
        "\n",
        "    block_changed = False\n",
        "\n",
        "    # 코드 추가\n",
        "    if ori_array[name] < tar_array[name] :\n",
        "      if tar_array[name] - ori_array[name] == 1:\n",
        "        block_changed = True\n",
        "        print(\"block added\")\n",
        "      else:\n",
        "        block_changed = True\n",
        "        print(\"block copied\")\n",
        "\n",
        "    # 코드 삭제\n",
        "    elif  ori_array[name] > tar_array[name] :\n",
        "      block_changed = true\n",
        "      print(\"block removed\")\n",
        "\n",
        "    # 코드 변경\n",
        "    else :\n",
        "      compared_keys = [key for key in ori_compared_data[name]]\n",
        "      for compared_key in compared_keys:\n",
        "        if ori_compared_data[name][compared_key][\"parent\"] != tar_compared_data[name][compared_key][\"parent\"]:\n",
        "          block_changed = True\n",
        "          print(\"block code order changed\")\n",
        "          break\n",
        "        elif (ori_compared_data[name][compared_key][\"x\"] != tar_compared_data[name][compared_key][\"x\"]) or (ori_compared_data[name][compared_key][\"y\"] != tar_compared_data[name][compared_key][\"y\"]):\n",
        "          block_changed = True\n",
        "          print(\"block position changed\")\n",
        "          break\n",
        "        elif ori_compared_data[name][compared_key][\"input\"] != tar_compared_data[name][compared_key][\"input\"]:\n",
        "          block_changed = True\n",
        "          print(\"block input value changed\")\n",
        "          break\n",
        "        \n",
        "    if not block_changed:\n",
        "      print(\"just clicked(or not changed)\")\n",
        "    \n",
        "    cnt += 1\n",
        "\n",
        "      "
      ],
      "execution_count": null,
      "outputs": []
    }
  ]
}